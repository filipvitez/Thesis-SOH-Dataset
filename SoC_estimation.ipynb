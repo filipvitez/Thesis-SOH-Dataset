{
 "cells": [
  {
   "cell_type": "markdown",
   "id": "ahead-ceramic",
   "metadata": {},
   "source": [
    "### Imports"
   ]
  },
  {
   "cell_type": "code",
   "execution_count": 1,
   "id": "varied-context",
   "metadata": {},
   "outputs": [],
   "source": [
    "import pandas as pd\n",
    "import os \n",
    "import matplotlib.pyplot as plt\n",
    "import umap"
   ]
  },
  {
   "cell_type": "code",
   "execution_count": 2,
   "id": "informal-plenty",
   "metadata": {},
   "outputs": [],
   "source": [
    "from sklearn.preprocessing import StandardScaler\n",
    "from sklearn import preprocessing\n",
    "import seaborn as sns"
   ]
  },
  {
   "cell_type": "code",
   "execution_count": 3,
   "id": "growing-budget",
   "metadata": {},
   "outputs": [],
   "source": [
    "from sklearn.cluster import KMeans"
   ]
  },
  {
   "cell_type": "code",
   "execution_count": 4,
   "id": "international-centre",
   "metadata": {},
   "outputs": [],
   "source": [
    "from sklearn.model_selection import train_test_split\n",
    "from catboost import CatBoostRegressor, Pool\n",
    "import numpy as np"
   ]
  },
  {
   "cell_type": "code",
   "execution_count": 5,
   "id": "efficient-interaction",
   "metadata": {},
   "outputs": [],
   "source": [
    "from sklearn import metrics"
   ]
  },
  {
   "cell_type": "code",
   "execution_count": null,
   "id": "equipped-possibility",
   "metadata": {},
   "outputs": [],
   "source": [
    "from sklearn.model_selection import train_test_split, KFold\n",
    "from sklearn.metrics import r2_score"
   ]
  },
  {
   "cell_type": "code",
   "execution_count": null,
   "id": "statistical-silence",
   "metadata": {},
   "outputs": [],
   "source": [
    "import shap\n",
    "shap.initjs()"
   ]
  },
  {
   "cell_type": "markdown",
   "id": "sealed-broadway",
   "metadata": {},
   "source": [
    "### Config"
   ]
  },
  {
   "cell_type": "code",
   "execution_count": 6,
   "id": "accepted-better",
   "metadata": {},
   "outputs": [],
   "source": [
    "# pandas \n",
    "pd.set_option('display.max_rows', 500)\n",
    "pd.set_option('display.max_columns', 500)\n",
    "pd.set_option('display.width', 1000)\n",
    "\n",
    "# matplotlib\n",
    "plt.rcParams['figure.figsize'] = [12.0, 10.0]\n",
    "plt.rcParams['figure.dpi'] = 80\n",
    "plt.rcParams['savefig.dpi'] = 100\n",
    "\n",
    "plt.rcParams['font.size'] = 12\n",
    "plt.rcParams['legend.fontsize'] = 'large'\n",
    "plt.rcParams['figure.titlesize'] = 'medium'"
   ]
  },
  {
   "cell_type": "markdown",
   "id": "cubic-archives",
   "metadata": {},
   "source": [
    "### Functions"
   ]
  },
  {
   "cell_type": "code",
   "execution_count": 7,
   "id": "unknown-laundry",
   "metadata": {},
   "outputs": [],
   "source": [
    "def plot_predictions(y_true, y_pred, uncertainty, y_label, **kwargs):\n",
    "    fig = plt.figure(figsize=(8, 7))\n",
    "    ax = plt.gca()\n",
    "    \n",
    "    minval, maxval = np.min(y_true), np.max(y_true)\n",
    "    minval = minval - 0.01 * minval\n",
    "    maxval = maxval + 0.01 * maxval\n",
    "    ax.set_xlim(minval, maxval)\n",
    "    ax.set_ylim(ax.get_xlim())\n",
    "    ax.plot(ax.get_xlim(), ax.get_ylim(), ls=\"--\", c=\"b\", label='Perfect prediction')\n",
    "    if 'cmap' not in kwargs:\n",
    "        kwargs.update({'cmap': 'coolwarm'})\n",
    "    sc = ax.scatter(y_pred, y_true, c=uncertainty, **kwargs)\n",
    "    ax.set_ylabel('y_true')\n",
    "    ax.set_xlabel('y_pred')\n",
    "             \n",
    "    text_metrics = r'$R^2$={:.2f}'.format(metrics.r2_score(y_true, y_pred))\n",
    "\n",
    "    ax.set_title('\\n'.join([y_label, text_metrics]))\n",
    "    cbar = plt.colorbar(sc)\n",
    "    cbar.set_label('Uncertainty')\n",
    "    plt.legend()"
   ]
  },
  {
   "cell_type": "code",
   "execution_count": 8,
   "id": "boring-mentor",
   "metadata": {},
   "outputs": [],
   "source": [
    "def get_model_importances(models):\n",
    "    df_importance = models[0].get_feature_importance(prettified=True)\n",
    "\n",
    "    for m in models[1:]:\n",
    "        df_importance['Importances'] += m.get_feature_importance(prettified=True)['Importances']\n",
    "    return df_importance"
   ]
  },
  {
   "cell_type": "code",
   "execution_count": null,
   "id": "inclusive-remove",
   "metadata": {},
   "outputs": [],
   "source": [
    "def beta_score(mu, std, y_true, threshold = 0.015):\n",
    "    a_range = (y_true.values - threshold*y_true.values, y_true.values + threshold*y_true.values)\n",
    "    betas = []\n",
    "    for i in range(len(mu)):\n",
    "        mu_i, std_i = mu[i], std[i]\n",
    "        normal = np.random.normal(mu_i, std_i, 1000)\n",
    "        beta_i = np.where(np.logical_and(a_range[0][i]<=normal, normal<=a_range[1][i]))[0].shape[0] / 1000\n",
    "        betas.append(beta_i)\n",
    "    return np.mean(betas, axis=0)\n",
    "    \n",
    "def a_accuracy(y_true, y_hat, threshold = 0.015):\n",
    "    a_range = (y_true.values - threshold*y_true.values, y_true.values + threshold*y_true.values)\n",
    "    return np.where(np.logical_and(a_range[0]<=y_hat, y_hat<=a_range[1]))[0].shape[0]/(y_hat.shape[0])\n",
    "\n",
    "def rmspe(y_true, y_pred):\n",
    "    '''\n",
    "    Compute Root Mean Square Perceantage Error between two arrays.\n",
    "    '''\n",
    "    eps = 1e-10\n",
    "    loss = np.sqrt(np.mean(np.square(((y_true - y_pred) / (y_true+eps)))))\n",
    "    return loss #output in %\n",
    "\n",
    "def c_score(y_true, y_hat):\n",
    "    std = np.std(y_true)\n",
    "    return np.where((np.abs(y_hat - y_true)) < 2*std)[0].shape[0] / y_hat.shape[0]"
   ]
  },
  {
   "cell_type": "markdown",
   "id": "provincial-spider",
   "metadata": {},
   "source": [
    "# Battery SoC data"
   ]
  },
  {
   "cell_type": "markdown",
   "id": "unsigned-framing",
   "metadata": {},
   "source": [
    "### Load data"
   ]
  },
  {
   "cell_type": "code",
   "execution_count": 9,
   "id": "reliable-retirement",
   "metadata": {},
   "outputs": [],
   "source": [
    "fname = 'dataset_training.csv'\n",
    "data_folder = os.path.join(os.getcwd(), 'Data')\n",
    "fpath = os.path.join(data_folder, fname)"
   ]
  },
  {
   "cell_type": "code",
   "execution_count": 10,
   "id": "naval-support",
   "metadata": {},
   "outputs": [],
   "source": [
    "df = pd.read_csv(fpath)\n",
    "df.drop(\"Unnamed: 0\", axis=1,inplace=True)"
   ]
  },
  {
   "cell_type": "code",
   "execution_count": 11,
   "id": "judicial-economy",
   "metadata": {},
   "outputs": [
    {
     "name": "stdout",
     "output_type": "stream",
     "text": [
      "<class 'pandas.core.frame.DataFrame'>\n",
      "RangeIndex: 226 entries, 0 to 225\n",
      "Data columns (total 19 columns):\n",
      " #   Column                               Non-Null Count  Dtype  \n",
      "---  ------                               --------------  -----  \n",
      " 0   Capacity dV CCCT                     226 non-null    float64\n",
      " 1   Charge time dV CCCT                  226 non-null    float64\n",
      " 2   Coefficient of skewness CCCV         226 non-null    float64\n",
      " 3   Discharge_Q                          226 non-null    float64\n",
      " 4   Energy dV CCCT                       226 non-null    float64\n",
      " 5   Entropy dV CCCT                      226 non-null    float64\n",
      " 6   Entropy dV CCCT Shannon              226 non-null    float64\n",
      " 7   Frechet Distance CC curve            226 non-null    float64\n",
      " 8   Group                                226 non-null    float64\n",
      " 9   Hausdorff Distance CC curve          226 non-null    float64\n",
      " 10  Kurtosis coefficient CCCV            226 non-null    float64\n",
      " 11  Lagged Cumulated Discharge Capacity  226 non-null    float64\n",
      " 12  Lagged Cumulated Discharge Energy    226 non-null    float64\n",
      " 13  Lagged Pseudo Resistace              226 non-null    float64\n",
      " 14  Lagged cycle time                    226 non-null    float64\n",
      " 15  Mean DV CCCV                         226 non-null    float64\n",
      " 16  Recovery Voltage                     226 non-null    float64\n",
      " 17  SOH_discharge_capacity               226 non-null    float64\n",
      " 18  Slope CCCV-CCCT                      226 non-null    float64\n",
      "dtypes: float64(19)\n",
      "memory usage: 33.7 KB\n"
     ]
    }
   ],
   "source": [
    "df.info()"
   ]
  },
  {
   "cell_type": "code",
   "execution_count": 35,
   "id": "growing-daisy",
   "metadata": {},
   "outputs": [],
   "source": [
    "target = 'SOH_discharge_capacity'"
   ]
  },
  {
   "cell_type": "code",
   "execution_count": 12,
   "id": "indirect-bulletin",
   "metadata": {},
   "outputs": [
    {
     "data": {
      "text/html": [
       "<div>\n",
       "<style scoped>\n",
       "    .dataframe tbody tr th:only-of-type {\n",
       "        vertical-align: middle;\n",
       "    }\n",
       "\n",
       "    .dataframe tbody tr th {\n",
       "        vertical-align: top;\n",
       "    }\n",
       "\n",
       "    .dataframe thead th {\n",
       "        text-align: right;\n",
       "    }\n",
       "</style>\n",
       "<table border=\"1\" class=\"dataframe\">\n",
       "  <thead>\n",
       "    <tr style=\"text-align: right;\">\n",
       "      <th></th>\n",
       "      <th>Capacity dV CCCT</th>\n",
       "      <th>Charge time dV CCCT</th>\n",
       "      <th>Coefficient of skewness CCCV</th>\n",
       "      <th>Discharge_Q</th>\n",
       "      <th>Energy dV CCCT</th>\n",
       "      <th>Entropy dV CCCT</th>\n",
       "      <th>Entropy dV CCCT Shannon</th>\n",
       "      <th>Frechet Distance CC curve</th>\n",
       "      <th>Group</th>\n",
       "      <th>Hausdorff Distance CC curve</th>\n",
       "      <th>Kurtosis coefficient CCCV</th>\n",
       "      <th>Lagged Cumulated Discharge Capacity</th>\n",
       "      <th>Lagged Cumulated Discharge Energy</th>\n",
       "      <th>Lagged Pseudo Resistace</th>\n",
       "      <th>Lagged cycle time</th>\n",
       "      <th>Mean DV CCCV</th>\n",
       "      <th>Recovery Voltage</th>\n",
       "      <th>SOH_discharge_capacity</th>\n",
       "      <th>Slope CCCV-CCCT</th>\n",
       "    </tr>\n",
       "  </thead>\n",
       "  <tbody>\n",
       "    <tr>\n",
       "      <th>count</th>\n",
       "      <td>226.000000</td>\n",
       "      <td>226.000000</td>\n",
       "      <td>226.000000</td>\n",
       "      <td>226.000000</td>\n",
       "      <td>226.000000</td>\n",
       "      <td>226.000000</td>\n",
       "      <td>226.000000</td>\n",
       "      <td>226.000000</td>\n",
       "      <td>226.000000</td>\n",
       "      <td>226.000000</td>\n",
       "      <td>226.000000</td>\n",
       "      <td>226.000000</td>\n",
       "      <td>226.000000</td>\n",
       "      <td>226.000000</td>\n",
       "      <td>226.000000</td>\n",
       "      <td>226.000000</td>\n",
       "      <td>226.000000</td>\n",
       "      <td>226.000000</td>\n",
       "      <td>226.000000</td>\n",
       "    </tr>\n",
       "    <tr>\n",
       "      <th>mean</th>\n",
       "      <td>466.460573</td>\n",
       "      <td>0.005001</td>\n",
       "      <td>0.019940</td>\n",
       "      <td>629.283862</td>\n",
       "      <td>466.460573</td>\n",
       "      <td>0.128834</td>\n",
       "      <td>8.686714</td>\n",
       "      <td>0.846935</td>\n",
       "      <td>8001.991150</td>\n",
       "      <td>6.567651</td>\n",
       "      <td>0.138931</td>\n",
       "      <td>24532.691023</td>\n",
       "      <td>77149.779967</td>\n",
       "      <td>0.030273</td>\n",
       "      <td>2.725632</td>\n",
       "      <td>0.467713</td>\n",
       "      <td>2.700012</td>\n",
       "      <td>0.854546</td>\n",
       "      <td>18.038105</td>\n",
       "    </tr>\n",
       "    <tr>\n",
       "      <th>std</th>\n",
       "      <td>54.318763</td>\n",
       "      <td>0.000163</td>\n",
       "      <td>0.003022</td>\n",
       "      <td>52.370821</td>\n",
       "      <td>54.318763</td>\n",
       "      <td>0.001414</td>\n",
       "      <td>0.045151</td>\n",
       "      <td>0.000054</td>\n",
       "      <td>0.827264</td>\n",
       "      <td>0.109412</td>\n",
       "      <td>0.003607</td>\n",
       "      <td>13728.803921</td>\n",
       "      <td>43222.431513</td>\n",
       "      <td>0.013420</td>\n",
       "      <td>1.523909</td>\n",
       "      <td>0.004306</td>\n",
       "      <td>0.000132</td>\n",
       "      <td>0.071166</td>\n",
       "      <td>0.591251</td>\n",
       "    </tr>\n",
       "    <tr>\n",
       "      <th>min</th>\n",
       "      <td>349.596523</td>\n",
       "      <td>0.004688</td>\n",
       "      <td>0.009693</td>\n",
       "      <td>501.435046</td>\n",
       "      <td>349.596523</td>\n",
       "      <td>0.125276</td>\n",
       "      <td>8.566054</td>\n",
       "      <td>0.846828</td>\n",
       "      <td>8001.000000</td>\n",
       "      <td>6.351351</td>\n",
       "      <td>0.126383</td>\n",
       "      <td>0.000000</td>\n",
       "      <td>0.000000</td>\n",
       "      <td>0.000000</td>\n",
       "      <td>0.000000</td>\n",
       "      <td>0.461268</td>\n",
       "      <td>2.699652</td>\n",
       "      <td>0.682393</td>\n",
       "      <td>16.954704</td>\n",
       "    </tr>\n",
       "    <tr>\n",
       "      <th>25%</th>\n",
       "      <td>417.144023</td>\n",
       "      <td>0.004861</td>\n",
       "      <td>0.019321</td>\n",
       "      <td>581.162332</td>\n",
       "      <td>417.144023</td>\n",
       "      <td>0.127928</td>\n",
       "      <td>8.654636</td>\n",
       "      <td>0.846890</td>\n",
       "      <td>8001.000000</td>\n",
       "      <td>6.486733</td>\n",
       "      <td>0.137573</td>\n",
       "      <td>12838.808136</td>\n",
       "      <td>40298.046816</td>\n",
       "      <td>0.021498</td>\n",
       "      <td>1.427159</td>\n",
       "      <td>0.464679</td>\n",
       "      <td>2.699927</td>\n",
       "      <td>0.790384</td>\n",
       "      <td>17.584214</td>\n",
       "    </tr>\n",
       "    <tr>\n",
       "      <th>50%</th>\n",
       "      <td>462.999395</td>\n",
       "      <td>0.005046</td>\n",
       "      <td>0.020104</td>\n",
       "      <td>622.707867</td>\n",
       "      <td>462.999395</td>\n",
       "      <td>0.128640</td>\n",
       "      <td>8.695227</td>\n",
       "      <td>0.846952</td>\n",
       "      <td>8002.000000</td>\n",
       "      <td>6.603932</td>\n",
       "      <td>0.139027</td>\n",
       "      <td>25019.910089</td>\n",
       "      <td>78680.436057</td>\n",
       "      <td>0.027257</td>\n",
       "      <td>2.776600</td>\n",
       "      <td>0.466974</td>\n",
       "      <td>2.700013</td>\n",
       "      <td>0.845835</td>\n",
       "      <td>17.854424</td>\n",
       "    </tr>\n",
       "    <tr>\n",
       "      <th>75%</th>\n",
       "      <td>509.093935</td>\n",
       "      <td>0.005127</td>\n",
       "      <td>0.022097</td>\n",
       "      <td>669.863374</td>\n",
       "      <td>509.093935</td>\n",
       "      <td>0.129737</td>\n",
       "      <td>8.723660</td>\n",
       "      <td>0.846977</td>\n",
       "      <td>8003.000000</td>\n",
       "      <td>6.644031</td>\n",
       "      <td>0.141176</td>\n",
       "      <td>36354.897608</td>\n",
       "      <td>114501.658021</td>\n",
       "      <td>0.035446</td>\n",
       "      <td>4.048363</td>\n",
       "      <td>0.468735</td>\n",
       "      <td>2.700105</td>\n",
       "      <td>0.909824</td>\n",
       "      <td>18.532200</td>\n",
       "    </tr>\n",
       "    <tr>\n",
       "      <th>max</th>\n",
       "      <td>578.290452</td>\n",
       "      <td>0.005313</td>\n",
       "      <td>0.024151</td>\n",
       "      <td>739.110921</td>\n",
       "      <td>578.290452</td>\n",
       "      <td>0.133564</td>\n",
       "      <td>8.791163</td>\n",
       "      <td>0.847032</td>\n",
       "      <td>8003.000000</td>\n",
       "      <td>6.774395</td>\n",
       "      <td>0.145682</td>\n",
       "      <td>48494.177843</td>\n",
       "      <td>152910.711527</td>\n",
       "      <td>0.129244</td>\n",
       "      <td>5.360378</td>\n",
       "      <td>0.482614</td>\n",
       "      <td>2.700457</td>\n",
       "      <td>1.000000</td>\n",
       "      <td>19.210952</td>\n",
       "    </tr>\n",
       "  </tbody>\n",
       "</table>\n",
       "</div>"
      ],
      "text/plain": [
       "       Capacity dV CCCT  Charge time dV CCCT  Coefficient of skewness CCCV  Discharge_Q  Energy dV CCCT  Entropy dV CCCT  Entropy dV CCCT Shannon  Frechet Distance CC curve        Group  Hausdorff Distance CC curve  Kurtosis coefficient CCCV  Lagged Cumulated Discharge Capacity  Lagged Cumulated Discharge Energy  Lagged Pseudo Resistace  Lagged cycle time  Mean DV CCCV  Recovery Voltage  SOH_discharge_capacity  Slope CCCV-CCCT\n",
       "count        226.000000           226.000000                    226.000000   226.000000      226.000000       226.000000               226.000000                 226.000000   226.000000                   226.000000                 226.000000                           226.000000                         226.000000               226.000000         226.000000    226.000000        226.000000              226.000000       226.000000\n",
       "mean         466.460573             0.005001                      0.019940   629.283862      466.460573         0.128834                 8.686714                   0.846935  8001.991150                     6.567651                   0.138931                         24532.691023                       77149.779967                 0.030273           2.725632      0.467713          2.700012                0.854546        18.038105\n",
       "std           54.318763             0.000163                      0.003022    52.370821       54.318763         0.001414                 0.045151                   0.000054     0.827264                     0.109412                   0.003607                         13728.803921                       43222.431513                 0.013420           1.523909      0.004306          0.000132                0.071166         0.591251\n",
       "min          349.596523             0.004688                      0.009693   501.435046      349.596523         0.125276                 8.566054                   0.846828  8001.000000                     6.351351                   0.126383                             0.000000                           0.000000                 0.000000           0.000000      0.461268          2.699652                0.682393        16.954704\n",
       "25%          417.144023             0.004861                      0.019321   581.162332      417.144023         0.127928                 8.654636                   0.846890  8001.000000                     6.486733                   0.137573                         12838.808136                       40298.046816                 0.021498           1.427159      0.464679          2.699927                0.790384        17.584214\n",
       "50%          462.999395             0.005046                      0.020104   622.707867      462.999395         0.128640                 8.695227                   0.846952  8002.000000                     6.603932                   0.139027                         25019.910089                       78680.436057                 0.027257           2.776600      0.466974          2.700013                0.845835        17.854424\n",
       "75%          509.093935             0.005127                      0.022097   669.863374      509.093935         0.129737                 8.723660                   0.846977  8003.000000                     6.644031                   0.141176                         36354.897608                      114501.658021                 0.035446           4.048363      0.468735          2.700105                0.909824        18.532200\n",
       "max          578.290452             0.005313                      0.024151   739.110921      578.290452         0.133564                 8.791163                   0.847032  8003.000000                     6.774395                   0.145682                         48494.177843                      152910.711527                 0.129244           5.360378      0.482614          2.700457                1.000000        19.210952"
      ]
     },
     "execution_count": 12,
     "metadata": {},
     "output_type": "execute_result"
    }
   ],
   "source": [
    "df.describe()"
   ]
  },
  {
   "cell_type": "code",
   "execution_count": 63,
   "id": "supported-object",
   "metadata": {},
   "outputs": [
    {
     "data": {
      "text/plain": [
       "Capacity dV CCCT                       0.997850\n",
       "Charge time dV CCCT                   -0.798468\n",
       "Coefficient of skewness CCCV          -0.375940\n",
       "Discharge_Q                            0.999480\n",
       "Energy dV CCCT                         0.997850\n",
       "Entropy dV CCCT                       -0.227929\n",
       "Entropy dV CCCT Shannon               -0.747791\n",
       "Frechet Distance CC curve             -0.801084\n",
       "Group                                  0.065252\n",
       "Hausdorff Distance CC curve           -0.790718\n",
       "Kurtosis coefficient CCCV             -0.250027\n",
       "Lagged Cumulated Discharge Capacity   -0.980501\n",
       "Lagged Cumulated Discharge Energy     -0.980395\n",
       "Lagged Pseudo Resistace               -0.772217\n",
       "Lagged cycle time                     -0.982013\n",
       "Mean DV CCCV                           0.424378\n",
       "Recovery Voltage                      -0.018573\n",
       "SOH_discharge_capacity                 1.000000\n",
       "Slope CCCV-CCCT                        0.803668\n",
       "Name: SOH_discharge_capacity, dtype: float64"
      ]
     },
     "execution_count": 63,
     "metadata": {},
     "output_type": "execute_result"
    }
   ],
   "source": [
    "df.corr()['SOH_discharge_capacity']"
   ]
  },
  {
   "cell_type": "code",
   "execution_count": 36,
   "id": "terminal-legislature",
   "metadata": {},
   "outputs": [],
   "source": [
    "drop_cols = ['Capacity dV CCCT', 'Energy dV CCCT', 'Lagged Cumulated Discharge Capacity', \n",
    "             'Lagged Cumulated Discharge Energy', 'SOH_discharge_capacity', 'Lagged cycle time', 'Discharge_Q']"
   ]
  },
  {
   "cell_type": "code",
   "execution_count": 14,
   "id": "swedish-avatar",
   "metadata": {},
   "outputs": [],
   "source": [
    "le = preprocessing.LabelEncoder()\n",
    "le.fit(df.Group.unique().tolist())\n",
    "le.classes_\n",
    "df['le_group'] = le.transform(df.Group)"
   ]
  },
  {
   "cell_type": "code",
   "execution_count": 37,
   "id": "smoking-livestock",
   "metadata": {},
   "outputs": [],
   "source": [
    "X = df.loc[:, [col for col in df.columns.tolist() if col != target and col not in drop_cols]]"
   ]
  },
  {
   "cell_type": "code",
   "execution_count": 38,
   "id": "sapphire-recommendation",
   "metadata": {},
   "outputs": [],
   "source": [
    "y = df.loc[:, [target]]"
   ]
  },
  {
   "cell_type": "code",
   "execution_count": 39,
   "id": "separate-announcement",
   "metadata": {},
   "outputs": [
    {
     "data": {
      "text/plain": [
       "<seaborn.axisgrid.FacetGrid at 0x7fe31b449670>"
      ]
     },
     "execution_count": 39,
     "metadata": {},
     "output_type": "execute_result"
    },
    {
     "data": {
      "image/png": "[encoded data removed]",
      "text/plain": [
       "<Figure size 400x400 with 1 Axes>"
      ]
     },
     "metadata": {
      "needs_background": "light"
     },
     "output_type": "display_data"
    }
   ],
   "source": [
    "sns.displot(data=df, x=target, kind=\"kde\", palette='Paired')"
   ]
  },
  {
   "cell_type": "code",
   "execution_count": 40,
   "id": "intellectual-northeast",
   "metadata": {},
   "outputs": [],
   "source": [
    "X = StandardScaler().fit_transform(X)"
   ]
  },
  {
   "cell_type": "code",
   "execution_count": 41,
   "id": "cleared-denmark",
   "metadata": {},
   "outputs": [],
   "source": [
    "reducer = umap.UMAP()"
   ]
  },
  {
   "cell_type": "code",
   "execution_count": 42,
   "id": "still-surveillance",
   "metadata": {},
   "outputs": [],
   "source": [
    "clusterable_embedding = umap.UMAP(\n",
    "    n_neighbors=30,\n",
    "    min_dist=0.0,\n",
    "    n_components=2,\n",
    "    random_state=42,\n",
    ").fit_transform(X)"
   ]
  },
  {
   "cell_type": "code",
   "execution_count": 43,
   "id": "pregnant-conducting",
   "metadata": {},
   "outputs": [
    {
     "data": {
      "text/plain": [
       "(226, 2)"
      ]
     },
     "execution_count": 43,
     "metadata": {},
     "output_type": "execute_result"
    }
   ],
   "source": [
    "clusterable_embedding.shape"
   ]
  },
  {
   "cell_type": "code",
   "execution_count": 44,
   "id": "thousand-thriller",
   "metadata": {},
   "outputs": [],
   "source": [
    "df['y1'] = clusterable_embedding[:,0]\n",
    "df['y2'] = clusterable_embedding[:,1]"
   ]
  },
  {
   "cell_type": "code",
   "execution_count": 47,
   "id": "incomplete-fiction",
   "metadata": {},
   "outputs": [
    {
     "data": {
      "text/plain": [
       "0.08327883009762291"
      ]
     },
     "execution_count": 47,
     "metadata": {},
     "output_type": "execute_result"
    }
   ],
   "source": [
    "df['SOH_discharge_capacity'].std()/df['SOH_discharge_capacity'].mean()"
   ]
  },
  {
   "cell_type": "code",
   "execution_count": 52,
   "id": "fantastic-spending",
   "metadata": {},
   "outputs": [],
   "source": [
    "plt.rc('axes', labelsize=20)\n",
    "plt.rcParams['font.size'] = 16"
   ]
  },
  {
   "cell_type": "code",
   "execution_count": 53,
   "id": "failing-rescue",
   "metadata": {},
   "outputs": [
    {
     "data": {
      "image/png": "[encoded data removed]",
      "text/plain": [
       "<Figure size 960x800 with 1 Axes>"
      ]
     },
     "metadata": {
      "needs_background": "light"
     },
     "output_type": "display_data"
    }
   ],
   "source": [
    "sns.scatterplot(data=df, x=\"y1\", y=\"y2\", hue='SOH_discharge_capacity', palette='Blues')\n",
    "plt.savefig('toydata_umap.jpeg')"
   ]
  },
  {
   "cell_type": "markdown",
   "id": "immune-things",
   "metadata": {},
   "source": [
    "## Train a catboost regressor"
   ]
  },
  {
   "cell_type": "code",
   "execution_count": 27,
   "id": "listed-martial",
   "metadata": {},
   "outputs": [],
   "source": [
    "X_train, X_test, y_train, y_test = train_test_split(df.loc[:, [col for col in df.columns.tolist() if col != target and col not in drop_cols]], df[target], test_size=0.2)\n",
    "X_train, X_val, y_train, y_val = train_test_split(X_train, y_train, test_size=0.2)                                                  "
   ]
  },
  {
   "cell_type": "code",
   "execution_count": 28,
   "id": "designed-heater",
   "metadata": {},
   "outputs": [],
   "source": [
    "# model Params\n",
    "loss_fn = 'RMSEWithUncertainty'\n",
    "SEED = 4711\n",
    "\n",
    "params = {\n",
    "    'loss_function': loss_fn,\n",
    "    'eval_metric': 'RMSE',\n",
    "    'verbose': 100,\n",
    "    'random_seed': SEED,\n",
    "    #'cat_features': cat_features,\n",
    "    'early_stopping_rounds': 300,\n",
    "    # 'l2_leaf_reg': 0.1,\n",
    "    # 'learning_rate': 0.01,\n",
    "    # 'posterior_sampling': True,\n",
    "}"
   ]
  },
  {
   "cell_type": "code",
   "execution_count": 63,
   "id": "occasional-semester",
   "metadata": {},
   "outputs": [
    {
     "name": "stdout",
     "output_type": "stream",
     "text": [
      "Learning rate set to 0.030617\n",
      "0:\tlearn: 51.9503630\ttest: 44.0659680\tbest: 44.0659680 (0)\ttotal: 2.02ms\tremaining: 2.02s\n",
      "100:\tlearn: 10.7314830\ttest: 9.7769970\tbest: 9.7769970 (100)\ttotal: 67.2ms\tremaining: 598ms\n",
      "200:\tlearn: 5.3745506\ttest: 6.6502842\tbest: 6.6502842 (200)\ttotal: 129ms\tremaining: 512ms\n",
      "300:\tlearn: 3.3191666\ttest: 6.3267629\tbest: 6.2905482 (283)\ttotal: 196ms\tremaining: 455ms\n",
      "400:\tlearn: 2.1613820\ttest: 6.4180105\tbest: 6.2905482 (283)\ttotal: 261ms\tremaining: 390ms\n",
      "500:\tlearn: 1.5079249\ttest: 6.4118110\tbest: 6.2905482 (283)\ttotal: 320ms\tremaining: 318ms\n",
      "Stopped by overfitting detector  (300 iterations wait)\n",
      "\n",
      "bestTest = 6.290548196\n",
      "bestIteration = 283\n",
      "\n",
      "Shrink model to first 284 iterations.\n",
      "Learning rate set to 0.030617\n",
      "0:\tlearn: 50.0719713\ttest: 52.0155016\tbest: 52.0155016 (0)\ttotal: 1.08ms\tremaining: 1.08s\n",
      "100:\tlearn: 10.2337799\ttest: 12.7929303\tbest: 12.7929303 (100)\ttotal: 59.1ms\tremaining: 526ms\n",
      "200:\tlearn: 5.0812810\ttest: 9.6641919\tbest: 9.6641919 (200)\ttotal: 112ms\tremaining: 443ms\n",
      "300:\tlearn: 3.2242260\ttest: 9.3887846\tbest: 9.3656535 (274)\ttotal: 164ms\tremaining: 380ms\n",
      "400:\tlearn: 2.1512969\ttest: 9.4220539\tbest: 9.3656535 (274)\ttotal: 228ms\tremaining: 341ms\n",
      "500:\tlearn: 1.5392853\ttest: 9.4449213\tbest: 9.3656535 (274)\ttotal: 284ms\tremaining: 283ms\n",
      "Stopped by overfitting detector  (300 iterations wait)\n",
      "\n",
      "bestTest = 9.365653532\n",
      "bestIteration = 274\n",
      "\n",
      "Shrink model to first 275 iterations.\n",
      "Learning rate set to 0.030617\n",
      "0:\tlearn: 51.3728529\ttest: 46.6597824\tbest: 46.6597824 (0)\ttotal: 939us\tremaining: 938ms\n",
      "100:\tlearn: 10.4134047\ttest: 16.1860480\tbest: 16.1860480 (100)\ttotal: 56.7ms\tremaining: 504ms\n",
      "200:\tlearn: 5.0855392\ttest: 14.2506961\tbest: 14.2506961 (200)\ttotal: 119ms\tremaining: 472ms\n",
      "300:\tlearn: 3.2096791\ttest: 14.3089296\tbest: 14.1996248 (233)\ttotal: 176ms\tremaining: 409ms\n",
      "400:\tlearn: 2.2294566\ttest: 14.3261533\tbest: 14.1996248 (233)\ttotal: 234ms\tremaining: 349ms\n",
      "500:\tlearn: 1.6017916\ttest: 14.3170252\tbest: 14.1996248 (233)\ttotal: 297ms\tremaining: 295ms\n",
      "Stopped by overfitting detector  (300 iterations wait)\n",
      "\n",
      "bestTest = 14.19962475\n",
      "bestIteration = 233\n",
      "\n",
      "Shrink model to first 234 iterations.\n",
      "Learning rate set to 0.030617\n",
      "0:\tlearn: 48.9876631\ttest: 55.9613004\tbest: 55.9613004 (0)\ttotal: 774us\tremaining: 774ms\n",
      "100:\tlearn: 9.0965485\ttest: 23.0073118\tbest: 23.0073118 (100)\ttotal: 93.1ms\tremaining: 829ms\n",
      "200:\tlearn: 4.3179202\ttest: 21.3880526\tbest: 21.3880526 (200)\ttotal: 172ms\tremaining: 683ms\n",
      "300:\tlearn: 2.8503600\ttest: 21.2443865\tbest: 21.2415181 (277)\ttotal: 242ms\tremaining: 561ms\n",
      "400:\tlearn: 1.9043963\ttest: 21.2354599\tbest: 21.2167547 (332)\ttotal: 305ms\tremaining: 456ms\n",
      "500:\tlearn: 1.3199979\ttest: 21.1606210\tbest: 21.1606210 (500)\ttotal: 372ms\tremaining: 371ms\n",
      "600:\tlearn: 0.9291570\ttest: 21.1388585\tbest: 21.1388585 (600)\ttotal: 439ms\tremaining: 291ms\n",
      "700:\tlearn: 0.6541601\ttest: 21.1331772\tbest: 21.1297974 (689)\ttotal: 504ms\tremaining: 215ms\n",
      "800:\tlearn: 0.4759591\ttest: 21.1181650\tbest: 21.1172813 (798)\ttotal: 571ms\tremaining: 142ms\n",
      "900:\tlearn: 0.3377869\ttest: 21.1021796\tbest: 21.1012912 (895)\ttotal: 641ms\tremaining: 70.5ms\n",
      "999:\tlearn: 0.2555913\ttest: 21.1002890\tbest: 21.0988631 (941)\ttotal: 709ms\tremaining: 0us\n",
      "\n",
      "bestTest = 21.09886306\n",
      "bestIteration = 941\n",
      "\n",
      "Shrink model to first 942 iterations.\n",
      "Learning rate set to 0.030667\n",
      "0:\tlearn: 49.6303995\ttest: 54.0939837\tbest: 54.0939837 (0)\ttotal: 1.16ms\tremaining: 1.16s\n",
      "100:\tlearn: 10.2977330\ttest: 13.4214408\tbest: 13.4214408 (100)\ttotal: 71ms\tremaining: 632ms\n",
      "200:\tlearn: 5.2281503\ttest: 8.5935173\tbest: 8.5922832 (199)\ttotal: 148ms\tremaining: 587ms\n",
      "300:\tlearn: 3.2852646\ttest: 7.7885755\tbest: 7.7885755 (300)\ttotal: 222ms\tremaining: 515ms\n",
      "400:\tlearn: 2.2600167\ttest: 7.5308440\tbest: 7.5224796 (394)\ttotal: 299ms\tremaining: 447ms\n",
      "500:\tlearn: 1.5470113\ttest: 7.5195073\tbest: 7.5034822 (434)\ttotal: 371ms\tremaining: 370ms\n",
      "600:\tlearn: 1.0848660\ttest: 7.5346937\tbest: 7.5034822 (434)\ttotal: 445ms\tremaining: 295ms\n",
      "700:\tlearn: 0.7810575\ttest: 7.5667338\tbest: 7.5034822 (434)\ttotal: 521ms\tremaining: 222ms\n",
      "Stopped by overfitting detector  (300 iterations wait)\n",
      "\n",
      "bestTest = 7.503482234\n",
      "bestIteration = 434\n",
      "\n",
      "Shrink model to first 435 iterations.\n",
      "CV mean: 11.6916, CV std: 5.4205\n"
     ]
    }
   ],
   "source": [
    "# cross validate\n",
    "scores = []\n",
    "models = []\n",
    "\n",
    "k = 5 # amount of data folds\n",
    "all_predictions = np.zeros((k, X_test.shape[0]))\n",
    "\n",
    "folds = KFold(n_splits=k, shuffle=True, random_state=SEED)\n",
    "\n",
    "params.update({'loss_function': 'RMSE'})\n",
    "\n",
    "for fold_n, (train_index, valid_index) in enumerate(folds.split(X_train, y_train)):\n",
    "    \n",
    "    X_train_fold, X_valid_fold = X_train.iloc[train_index], X_train.iloc[valid_index]\n",
    "    y_train_fold, y_valid_fold = y_train.iloc[train_index], y_train.iloc[valid_index]\n",
    "    \n",
    "    #X_train_pool = Pool(data=X_train_fold, label=y_train_fold,\n",
    "    #                    cat_features=cat_features)\n",
    "    #X_valid_pool = Pool(data=X_valid_fold, label=y_valid_fold,\n",
    "    #                    cat_features=cat_features)\n",
    "    \n",
    "    model = CatBoostRegressor(**params)\n",
    "    model.fit(X_train_fold, y_train_fold,\n",
    "              eval_set=(X_valid_fold, y_valid_fold), \n",
    "              use_best_model=True)\n",
    "    models.append(model)\n",
    "\n",
    "    score = model.get_best_score()['validation'][params['loss_function']]\n",
    "    scores.append(score)\n",
    "\n",
    "    y_pred = model.predict(X_test)\n",
    "    all_predictions[fold_n] = y_pred\n",
    "\n",
    "#prediction = all_predictions.mean(axis=0) * 1.0/scores.std(axis=0)\n",
    "#prediction /= k\n",
    "print('CV mean: {:.4f}, CV std: {:.4f}'.format(np.mean(scores), np.std(scores)))"
   ]
  },
  {
   "cell_type": "markdown",
   "id": "legislative-criticism",
   "metadata": {},
   "source": [
    "### Evaluation"
   ]
  },
  {
   "cell_type": "code",
   "execution_count": 78,
   "id": "monetary-slovak",
   "metadata": {},
   "outputs": [],
   "source": [
    "y_hat = np.mean(all_predictions, axis=0)\n",
    "std = np.std(all_predictions, axis=0)"
   ]
  },
  {
   "cell_type": "code",
   "execution_count": 83,
   "id": "express-radical",
   "metadata": {},
   "outputs": [],
   "source": [
    "mape_cb = metrics.mean_absolute_percentage_error(y_test, y_hat)\n",
    "rmspe_cb = rmspe(y_test,y_hat)\n",
    "r2_cb = r2_score(y_test, y_hat)\n",
    "sharpness_cb = (np.mean(np.std(all_predictions, axis=0)) / np.mean(y_test, axis=0))\n",
    "c_score_cb = c_score(y_test, y_hat)\n",
    "beta_score_cb = beta_score(y_hat, std, y_test, 0.015)\n",
    "a_acc_cb = a_accuracy(y_test, y_hat, 0.015)"
   ]
  },
  {
   "cell_type": "code",
   "execution_count": 55,
   "id": "brown-chaos",
   "metadata": {},
   "outputs": [
    {
     "data": {
      "text/html": [
       "<div>\n",
       "<style scoped>\n",
       "    .dataframe tbody tr th:only-of-type {\n",
       "        vertical-align: middle;\n",
       "    }\n",
       "\n",
       "    .dataframe tbody tr th {\n",
       "        vertical-align: top;\n",
       "    }\n",
       "\n",
       "    .dataframe thead th {\n",
       "        text-align: right;\n",
       "    }\n",
       "</style>\n",
       "<table border=\"1\" class=\"dataframe\">\n",
       "  <thead>\n",
       "    <tr style=\"text-align: right;\">\n",
       "      <th></th>\n",
       "      <th></th>\n",
       "      <th>mape</th>\n",
       "      <th>rmspe</th>\n",
       "      <th>c_score</th>\n",
       "      <th>sharpness</th>\n",
       "      <th>a_acc</th>\n",
       "      <th>beta</th>\n",
       "      <th>R2</th>\n",
       "    </tr>\n",
       "    <tr>\n",
       "      <th>model</th>\n",
       "      <th>target</th>\n",
       "      <th></th>\n",
       "      <th></th>\n",
       "      <th></th>\n",
       "      <th></th>\n",
       "      <th></th>\n",
       "      <th></th>\n",
       "      <th></th>\n",
       "    </tr>\n",
       "  </thead>\n",
       "  <tbody>\n",
       "    <tr>\n",
       "      <th>cb</th>\n",
       "      <th>cap</th>\n",
       "      <td>NaN</td>\n",
       "      <td>NaN</td>\n",
       "      <td>NaN</td>\n",
       "      <td>NaN</td>\n",
       "      <td>NaN</td>\n",
       "      <td>NaN</td>\n",
       "      <td>NaN</td>\n",
       "    </tr>\n",
       "  </tbody>\n",
       "</table>\n",
       "</div>"
      ],
      "text/plain": [
       "              mape  rmspe  c_score  sharpness  a_acc  beta  R2\n",
       "model target                                                  \n",
       "cb    cap      NaN    NaN      NaN        NaN    NaN   NaN NaN"
      ]
     },
     "execution_count": 55,
     "metadata": {},
     "output_type": "execute_result"
    }
   ],
   "source": [
    "idx = pd.MultiIndex.from_product([['cb'],\n",
    "                                  ['cap']],\n",
    "                                 names=['model', 'target'])\n",
    "col = ['mape', 'rmspe', 'c_score', 'sharpness', 'a_acc', 'beta', 'R2']\n",
    "\n",
    "comp = pd.DataFrame(np.nan, idx, col)\n",
    "comp"
   ]
  },
  {
   "cell_type": "code",
   "execution_count": 85,
   "id": "norwegian-halloween",
   "metadata": {},
   "outputs": [],
   "source": [
    "model_name = 'cb'\n",
    "target_name = 'cap'\n",
    "comp.loc[(model_name, target_name), ['mape']] = mape_cb\n",
    "comp.loc[(model_name, target_name), ['rmspe']] = rmspe_cb\n",
    "comp.loc[(model_name, target_name), ['c_score']] = c_score_cb\n",
    "comp.loc[(model_name, target_name), ['sharpness']] = sharpness_cb\n",
    "comp.loc[(model_name, target_name), ['beta']] = beta_score_cb\n",
    "comp.loc[(model_name, target_name), ['a_acc']] = a_acc_cb\n",
    "comp.loc[(model_name, target_name), ['R2']] = r2_cb"
   ]
  },
  {
   "cell_type": "code",
   "execution_count": 59,
   "id": "conscious-oregon",
   "metadata": {},
   "outputs": [
    {
     "data": {
      "text/html": [
       "<div>\n",
       "<style scoped>\n",
       "    .dataframe tbody tr th:only-of-type {\n",
       "        vertical-align: middle;\n",
       "    }\n",
       "\n",
       "    .dataframe tbody tr th {\n",
       "        vertical-align: top;\n",
       "    }\n",
       "\n",
       "    .dataframe thead th {\n",
       "        text-align: right;\n",
       "    }\n",
       "</style>\n",
       "<table border=\"1\" class=\"dataframe\">\n",
       "  <thead>\n",
       "    <tr style=\"text-align: right;\">\n",
       "      <th></th>\n",
       "      <th></th>\n",
       "      <th>mape</th>\n",
       "      <th>rmspe</th>\n",
       "      <th>c_score</th>\n",
       "      <th>sharpness</th>\n",
       "      <th>a_acc</th>\n",
       "      <th>beta</th>\n",
       "      <th>R2</th>\n",
       "    </tr>\n",
       "    <tr>\n",
       "      <th>model</th>\n",
       "      <th>target</th>\n",
       "      <th></th>\n",
       "      <th></th>\n",
       "      <th></th>\n",
       "      <th></th>\n",
       "      <th></th>\n",
       "      <th></th>\n",
       "      <th></th>\n",
       "    </tr>\n",
       "  </thead>\n",
       "  <tbody>\n",
       "    <tr>\n",
       "      <th>cb</th>\n",
       "      <th>cap</th>\n",
       "      <td>1.245</td>\n",
       "      <td>3.44</td>\n",
       "      <td>1.0</td>\n",
       "      <td>0.003</td>\n",
       "      <td>0.826</td>\n",
       "      <td>0.832</td>\n",
       "      <td>0.911</td>\n",
       "    </tr>\n",
       "  </tbody>\n",
       "</table>\n",
       "</div>"
      ],
      "text/plain": [
       "               mape  rmspe  c_score  sharpness  a_acc   beta     R2\n",
       "model target                                                       \n",
       "cb    cap     1.245   3.44      1.0      0.003  0.826  0.832  0.911"
      ]
     },
     "execution_count": 59,
     "metadata": {},
     "output_type": "execute_result"
    }
   ],
   "source": [
    "comp.round(3)"
   ]
  },
  {
   "cell_type": "code",
   "execution_count": 93,
   "id": "tracked-clearance",
   "metadata": {},
   "outputs": [
    {
     "data": {
      "image/png": "[encoded data removed]",
      "text/plain": [
       "<Figure size 400x400 with 1 Axes>"
      ]
     },
     "metadata": {},
     "output_type": "display_data"
    }
   ],
   "source": [
    "plt.rcParams['figure.figsize'] = [12.0, 10.0]\n",
    "plt.rcParams['figure.dpi'] = 80\n",
    "plt.rcParams['savefig.dpi'] = 100\n",
    "sns.set(rc={'figure.figsize':(16,10)})\n",
    "errs = ((y_test - y_hat)/y_test)*100\n",
    "g = sns.displot(data=errs)\n",
    "plt.axvline(1.5, 0,1, label='Alpha upper bound', c='red')\n",
    "plt.axvline(-1.5, 0,1, label = 'Alpha lower bound', c='red')\n",
    "#plt.axvline(np.mean(errs), 0,1, label = 'Mean', c='green')\n",
    "plt.xlabel('% error')\n",
    "#g.set(xticklabels=['tja'])\n",
    "plt.legend(loc='best')\n",
    "plt.savefig('err_toy.jpeg')"
   ]
  }
 ],
 "metadata": {
  "kernelspec": {
   "display_name": "Python 3",
   "language": "python",
   "name": "python3"
  },
  "language_info": {
   "codemirror_mode": {
    "name": "ipython",
    "version": 3
   },
   "file_extension": ".py",
   "mimetype": "text/x-python",
   "name": "python",
   "nbconvert_exporter": "python",
   "pygments_lexer": "ipython3",
   "version": "3.8.8"
  }
 },
 "nbformat": 4,
 "nbformat_minor": 5
}
